{
 "cells": [
  {
   "cell_type": "markdown",
   "metadata": {},
   "source": [
    "### Desafio de negócio\n",
    "\n",
    "O LIT faz personalização do ensino com o \"Paul\", o primeiro tutor do mundo a utilizar a tecnologia de Inteligência Artificial IBM Watson para potencializar a aprendizagem e também a personalização, visando ajudar o aluno a estudar da forma mais adequada para absorver o máximo de conteúdo possível sem desfocar do que ele realmente deve aprender, eliminando assim conteúdos que o aluno já sabe.\n",
    "\n",
    "Nesse Desafio de Segmentação de Mercado, os participantes deverão dividir por segmentos comportamentais e por competências os alunos do LIT, para gerar uma experiência na plataforma ainda mais personalizada.\n",
    "\n",
    "Para tanto, neste desafio deverá ser desenvolvido uma solução tecnológica para segmentar os alunos por comportamento e competências.\n",
    "\n",
    "Do ponto de vista comportamental, os alunos deverão ser divididos em 6 grupos a partir da interação do aluno ao longo de sua jornada no LIT. Cada perfil busca medir o grau de esforço do aluno dentro do progama educacional e qual a melhor jornada para o estudante.\n",
    "\n",
    "Com a introdução de um novo processo de onboarding na plataforma, teemos a oportunidade de utilizar os dados preenchidos pelos alunos para fazer uma melhor recomendação de quais dos mais 150 cursos do LIT, o aluno deveria se matricular, focando em seus interesses e responsabilidades.\n",
    "\n",
    "Sendo assim, esperamos poder indicar para cada aluno do LIT quais são os cursos ideais para ele, de acordo com as competências que eles precisam desenvolver para a sua carreira. Esperamos também durante a sua jornada de aprendizagem no LIT, gerar ações de engajamento de acordo com sua atividade na plataforma.\n",
    "\n",
    "\n",
    "### Objetivo\n",
    "\n",
    "Neste desafio, você deverá utilizar um jupyter notebook para criar um modelo de aprendizado de máquina capaz, com base nas variáveis fornecidas no dataset, identificar o que define o perfil de cada aluno para poder realizar previsões sobre futuros alunos."
   ]
  },
  {
   "cell_type": "code",
   "execution_count": 2,
   "metadata": {},
   "outputs": [],
   "source": [
    "import pandas as pd\n",
    "import numpy as np\n",
    "import matplotlib.pyplot as plt\n",
    "import seaborn as sns\n",
    "from imblearn.over_sampling import SMOTE\n",
    "from sklearn.model_selection import train_test_split\n",
    "from sklearn.metrics import accuracy_score\n",
    "from sklearn.metrics import confusion_matrix\n",
    "from sklearn.metrics import classification_report\n",
    "from sklearn.model_selection import cross_val_predict\n",
    "from sklearn.preprocessing import StandardScaler  \n",
    "from sklearn import metrics\n",
    "from sklearn.metrics import confusion_matrix, precision_score, recall_score, f1_score\n",
    "import statistics as st\n",
    "import itertools\n",
    "\n",
    "#Libs de Machine Learning - Decision Tree, Random Forest e KKN\n",
    "from sklearn.tree import DecisionTreeClassifier\n",
    "from sklearn.ensemble import RandomForestClassifier\n",
    "from sklearn.neighbors import KNeighborsClassifier\n",
    "%matplotlib inline"
   ]
  },
  {
   "cell_type": "code",
   "execution_count": 3,
   "metadata": {},
   "outputs": [],
   "source": [
    "def plot_confusion_matrix(cm, target_names, title='Confusion matrix', cmap=None, normalize=True):\n",
    "    accuracy = np.trace(cm) / float(np.sum(cm))\n",
    "    misclass = 1 - accuracy\n",
    "    if cmap is None:\n",
    "        cmap = plt.get_cmap('Blues')\n",
    "    plt.figure(figsize=(8, 6))\n",
    "    plt.imshow(cm, interpolation='nearest', cmap=cmap)\n",
    "    plt.title(title)\n",
    "    plt.colorbar()\n",
    "    if target_names is not None:\n",
    "        tick_marks = np.arange(len(target_names))\n",
    "        plt.xticks(tick_marks, target_names, rotation=45)\n",
    "        plt.yticks(tick_marks, target_names)\n",
    "    if normalize:\n",
    "        cm = cm.astype('float') / cm.sum(axis=1)[:, np.newaxis]\n",
    "    thresh = cm.max() / 1.5 if normalize else cm.max() / 2\n",
    "    for i, j in itertools.product(range(cm.shape[0]), range(cm.shape[1])):\n",
    "        if normalize:\n",
    "            plt.text(j, i, \"{:0.4f}\".format(cm[i, j]),\n",
    "                     horizontalalignment=\"center\",\n",
    "                     color=\"white\" if cm[i, j] > thresh else \"black\")\n",
    "        else:\n",
    "            plt.text(j, i, \"{:,}\".format(cm[i, j]),\n",
    "                     horizontalalignment=\"center\",\n",
    "                     color=\"white\" if cm[i, j] > thresh else \"black\")\n",
    "    plt.tight_layout()\n",
    "    plt.ylabel('True label')\n",
    "    plt.xlabel('Predicted label\\naccuracy={:0.4f}; misclass={:0.4f}'.format(accuracy, misclass))\n",
    "    plt.show()"
   ]
  },
  {
   "cell_type": "code",
   "execution_count": 4,
   "metadata": {},
   "outputs": [],
   "source": [
    "df = pd.read_csv('training_dataset.csv')"
   ]
  },
  {
   "cell_type": "code",
   "execution_count": 5,
   "metadata": {},
   "outputs": [
    {
     "data": {
      "text/html": [
       "<div>\n",
       "<style scoped>\n",
       "    .dataframe tbody tr th:only-of-type {\n",
       "        vertical-align: middle;\n",
       "    }\n",
       "\n",
       "    .dataframe tbody tr th {\n",
       "        vertical-align: top;\n",
       "    }\n",
       "\n",
       "    .dataframe thead th {\n",
       "        text-align: right;\n",
       "    }\n",
       "</style>\n",
       "<table border=\"1\" class=\"dataframe\">\n",
       "  <thead>\n",
       "    <tr style=\"text-align: right;\">\n",
       "      <th></th>\n",
       "      <th>id</th>\n",
       "      <th>graduacao</th>\n",
       "      <th>universidade</th>\n",
       "      <th>profissao</th>\n",
       "      <th>organizacao</th>\n",
       "      <th>pretende_fazer_cursos_lit</th>\n",
       "      <th>interesse_mba_lit</th>\n",
       "      <th>importante_ter_certificado</th>\n",
       "      <th>horas_semanais_estudo</th>\n",
       "      <th>como_conheceu_lit</th>\n",
       "      <th>total_modulos</th>\n",
       "      <th>modulos_iniciados</th>\n",
       "      <th>modulos_finalizados</th>\n",
       "      <th>certificados</th>\n",
       "      <th>categoria</th>\n",
       "    </tr>\n",
       "  </thead>\n",
       "  <tbody>\n",
       "    <tr>\n",
       "      <td>0</td>\n",
       "      <td>915132186.0</td>\n",
       "      <td>Especialização</td>\n",
       "      <td>UNIP</td>\n",
       "      <td>Analista Senior</td>\n",
       "      <td>Eletrodomesticos</td>\n",
       "      <td>1.0</td>\n",
       "      <td>1.0</td>\n",
       "      <td>1.0</td>\n",
       "      <td>6.0</td>\n",
       "      <td>Google</td>\n",
       "      <td>28.0</td>\n",
       "      <td>5.0</td>\n",
       "      <td>4.0</td>\n",
       "      <td>0.0</td>\n",
       "      <td>perfil6</td>\n",
       "    </tr>\n",
       "    <tr>\n",
       "      <td>1</td>\n",
       "      <td>183037660.0</td>\n",
       "      <td>MBA</td>\n",
       "      <td>NaN</td>\n",
       "      <td>Supervisor</td>\n",
       "      <td>e-commerce</td>\n",
       "      <td>0.0</td>\n",
       "      <td>0.0</td>\n",
       "      <td>1.0</td>\n",
       "      <td>6.0</td>\n",
       "      <td>NaN</td>\n",
       "      <td>66.0</td>\n",
       "      <td>36.0</td>\n",
       "      <td>34.0</td>\n",
       "      <td>0.0</td>\n",
       "      <td>perfil2</td>\n",
       "    </tr>\n",
       "    <tr>\n",
       "      <td>2</td>\n",
       "      <td>681614019.0</td>\n",
       "      <td>Bacharelado</td>\n",
       "      <td>UNICAMP</td>\n",
       "      <td>Outros</td>\n",
       "      <td>e-commerce</td>\n",
       "      <td>1.0</td>\n",
       "      <td>1.0</td>\n",
       "      <td>1.0</td>\n",
       "      <td>10.0</td>\n",
       "      <td>Saint Paul</td>\n",
       "      <td>27.0</td>\n",
       "      <td>27.0</td>\n",
       "      <td>27.0</td>\n",
       "      <td>0.0</td>\n",
       "      <td>perfil2</td>\n",
       "    </tr>\n",
       "    <tr>\n",
       "      <td>3</td>\n",
       "      <td>398921329.0</td>\n",
       "      <td>SEM FORMAÇÃO</td>\n",
       "      <td>UFRN</td>\n",
       "      <td>Outros</td>\n",
       "      <td>Eletroeletronicos</td>\n",
       "      <td>NaN</td>\n",
       "      <td>1.0</td>\n",
       "      <td>1.0</td>\n",
       "      <td>5.0</td>\n",
       "      <td>Instagram</td>\n",
       "      <td>29.0</td>\n",
       "      <td>10.0</td>\n",
       "      <td>6.0</td>\n",
       "      <td>0.0</td>\n",
       "      <td>perfil5</td>\n",
       "    </tr>\n",
       "    <tr>\n",
       "      <td>4</td>\n",
       "      <td>522842284.0</td>\n",
       "      <td>Tecnólogo</td>\n",
       "      <td>INSPER INSTITUTO DE ENSINO E PESQUISA</td>\n",
       "      <td>SEM EXPERIÊNCIA</td>\n",
       "      <td>Eletrodomesticos</td>\n",
       "      <td>NaN</td>\n",
       "      <td>0.0</td>\n",
       "      <td>1.0</td>\n",
       "      <td>7.0</td>\n",
       "      <td>Google</td>\n",
       "      <td>67.0</td>\n",
       "      <td>49.0</td>\n",
       "      <td>44.0</td>\n",
       "      <td>0.0</td>\n",
       "      <td>perfil2</td>\n",
       "    </tr>\n",
       "  </tbody>\n",
       "</table>\n",
       "</div>"
      ],
      "text/plain": [
       "            id       graduacao                           universidade  \\\n",
       "0  915132186.0  Especialização                                   UNIP   \n",
       "1  183037660.0             MBA                                    NaN   \n",
       "2  681614019.0     Bacharelado                                UNICAMP   \n",
       "3  398921329.0    SEM FORMAÇÃO                                   UFRN   \n",
       "4  522842284.0       Tecnólogo  INSPER INSTITUTO DE ENSINO E PESQUISA   \n",
       "\n",
       "         profissao        organizacao  pretende_fazer_cursos_lit  \\\n",
       "0  Analista Senior   Eletrodomesticos                        1.0   \n",
       "1       Supervisor         e-commerce                        0.0   \n",
       "2           Outros         e-commerce                        1.0   \n",
       "3           Outros  Eletroeletronicos                        NaN   \n",
       "4  SEM EXPERIÊNCIA   Eletrodomesticos                        NaN   \n",
       "\n",
       "   interesse_mba_lit  importante_ter_certificado  horas_semanais_estudo  \\\n",
       "0                1.0                         1.0                    6.0   \n",
       "1                0.0                         1.0                    6.0   \n",
       "2                1.0                         1.0                   10.0   \n",
       "3                1.0                         1.0                    5.0   \n",
       "4                0.0                         1.0                    7.0   \n",
       "\n",
       "  como_conheceu_lit  total_modulos  modulos_iniciados  modulos_finalizados  \\\n",
       "0            Google           28.0                5.0                  4.0   \n",
       "1               NaN           66.0               36.0                 34.0   \n",
       "2        Saint Paul           27.0               27.0                 27.0   \n",
       "3         Instagram           29.0               10.0                  6.0   \n",
       "4            Google           67.0               49.0                 44.0   \n",
       "\n",
       "   certificados categoria  \n",
       "0           0.0   perfil6  \n",
       "1           0.0   perfil2  \n",
       "2           0.0   perfil2  \n",
       "3           0.0   perfil5  \n",
       "4           0.0   perfil2  "
      ]
     },
     "execution_count": 5,
     "metadata": {},
     "output_type": "execute_result"
    }
   ],
   "source": [
    "df.head()"
   ]
  },
  {
   "cell_type": "code",
   "execution_count": 6,
   "metadata": {},
   "outputs": [
    {
     "name": "stdout",
     "output_type": "stream",
     "text": [
      "<class 'pandas.core.frame.DataFrame'>\n",
      "RangeIndex: 15857 entries, 0 to 15856\n",
      "Data columns (total 15 columns):\n",
      "id                            13945 non-null float64\n",
      "graduacao                     13950 non-null object\n",
      "universidade                  13920 non-null object\n",
      "profissao                     13977 non-null object\n",
      "organizacao                   13961 non-null object\n",
      "pretende_fazer_cursos_lit     13989 non-null float64\n",
      "interesse_mba_lit             14003 non-null float64\n",
      "importante_ter_certificado    13918 non-null float64\n",
      "horas_semanais_estudo         13959 non-null float64\n",
      "como_conheceu_lit             13915 non-null object\n",
      "total_modulos                 13987 non-null float64\n",
      "modulos_iniciados             14044 non-null float64\n",
      "modulos_finalizados           13924 non-null float64\n",
      "certificados                  13979 non-null float64\n",
      "categoria                     15857 non-null object\n",
      "dtypes: float64(9), object(6)\n",
      "memory usage: 1.8+ MB\n"
     ]
    }
   ],
   "source": [
    "df.info()"
   ]
  },
  {
   "cell_type": "code",
   "execution_count": 7,
   "metadata": {},
   "outputs": [
    {
     "data": {
      "image/png": "[encoded data removed]",
      "text/plain": [
       "<Figure size 432x288 with 1 Axes>"
      ]
     },
     "metadata": {
      "needs_background": "light"
     },
     "output_type": "display_data"
    }
   ],
   "source": [
    "#Antes do balanceamento\n",
    "ax = sns.countplot(x=df[\"categoria\"], data=df)"
   ]
  },
  {
   "cell_type": "code",
   "execution_count": 8,
   "metadata": {},
   "outputs": [],
   "source": [
    "#Verificar os elementos unicos de cada coluna\n",
    "#df['graduacao'].unique()\n",
    "#df['universidade'].unique()\n",
    "#df['profissao'].unique()\n",
    "#df['organizacao'].unique()\n",
    "#df['como_conheceu_lit'].unique()"
   ]
  },
  {
   "cell_type": "code",
   "execution_count": 9,
   "metadata": {},
   "outputs": [],
   "source": [
    "#Inicio do pré-processamento de dados\n",
    "#Formatando a coluna \"categoria\" em valores númericos para que possamos utilizar no algoritmo de machine learning\n",
    "df_processado = df.copy()\n",
    "df_processado[\"categoria\"] = df_processado[\"categoria\"].map({\"perfil1\": 1, \"perfil2\": 2, \"perfil3\": 3, \"perfil4\": 4, \"perfil5\": 5, \"perfil6\": 6})\n",
    "df_processado[\"graduacao\"] = df_processado[\"graduacao\"].map({\"Especialização\": 1, \"MBA\": 2, \"Bacharelado\": 3, \"SEM FORMAÇÃO\": 4, \"Tecnólogo\": 5, \"Licenciatura\": 6})\n",
    "df_processado[\"universidade\"] = df_processado[\"universidade\"].map({\"UNIP\": 1, \"UNICAMP\": 2, \"UFRN\": 3, \"INSPER INSTITUTO DE ENSINO E PESQUISA\": 4, \"UEPB\": 5, \"FGV-RJ\": 6, \"UNIVERSIDADE NOVE DE JULHO\": 7, \"USP\": 8, \"UNIVERSIDADE PRESBITERIANA MACKENZIE\": 9, \"UFSCar\": 10, \"Universidade Metodista de Sao Paulo\": 11, \"Escola Paulista de Direito\": 12, \"FACULDADE ANHANGUERA\": 13, \"UFF\": 14, \"UFPE\": 15, \"CENTRO UNIVERSITÁRIO ESTÁCIO DA SÁ\": 16, \"UNIVERSIDADE CRUZEIRO DO SUL\": 17, \"FATEC\": 18, \"UNIVERSIDADE ESTADUAL DE PONTA GROSSA\": 19, \"UFRJ\": 20, \"Unesp\": 18})\n",
    "df_processado[\"profissao\"] = df_processado[\"profissao\"].map({\"Analista Senior\": 1, \"Supervisor\": 2, \"Outros\": 3, \"SEM EXPERIÊNCIA\": 4, \"Advogado\": 5, \"Assessor\": 6, \"Engenheiro\": 7, \"Gerente\": 8, \"Analista\": 9, \"Diretor\": 10,\"Coordenador\": 11, \"Sócio/Dono/Proprietário\": 12})\n",
    "df_processado[\"organizacao\"] = df_processado[\"organizacao\"].map({\"Eletrodomesticos\": 1, \"e-commerce\": 2, \"Eletroeletronicos\": 3, \"Montadora\": 4, \"Entretenimento\": 5, \"Oleo e Gas\": 6, \"Siderurgica\": 7, \"servicos\": 8, \"Estado\": 9, \"Borracha\": 10, \"Laminados\": 11})\n",
    "df_processado[\"como_conheceu_lit\"] = df_processado[\"como_conheceu_lit\"].map({\"Google\": 1, \"Saint Paul\": 2, \"Instagram\": 3, \"Mídia (revista/jornal/web)\": 4, \"Outros\": 5, \"Facebook\": 6, \"Minha empresa - benefício LITpass\": 7, \"Linkedin\": 8, \"YouTube\": 9})"
   ]
  },
  {
   "cell_type": "code",
   "execution_count": 10,
   "metadata": {},
   "outputs": [],
   "source": [
    "#Verificando valores nulos\n",
    "#df_processado.isnull().sum()\n",
    "df_processado.dropna(inplace = True)\n"
   ]
  },
  {
   "cell_type": "code",
   "execution_count": 11,
   "metadata": {},
   "outputs": [
    {
     "name": "stdout",
     "output_type": "stream",
     "text": [
      "<class 'pandas.core.frame.DataFrame'>\n",
      "Int64Index: 2691 entries, 0 to 15848\n",
      "Data columns (total 15 columns):\n",
      "id                            2691 non-null float64\n",
      "graduacao                     2691 non-null float64\n",
      "universidade                  2691 non-null float64\n",
      "profissao                     2691 non-null float64\n",
      "organizacao                   2691 non-null float64\n",
      "pretende_fazer_cursos_lit     2691 non-null float64\n",
      "interesse_mba_lit             2691 non-null float64\n",
      "importante_ter_certificado    2691 non-null float64\n",
      "horas_semanais_estudo         2691 non-null float64\n",
      "como_conheceu_lit             2691 non-null float64\n",
      "total_modulos                 2691 non-null float64\n",
      "modulos_iniciados             2691 non-null float64\n",
      "modulos_finalizados           2691 non-null float64\n",
      "certificados                  2691 non-null float64\n",
      "categoria                     2691 non-null int64\n",
      "dtypes: float64(14), int64(1)\n",
      "memory usage: 336.4 KB\n"
     ]
    }
   ],
   "source": [
    "df_processado.info()"
   ]
  },
  {
   "cell_type": "code",
   "execution_count": 12,
   "metadata": {},
   "outputs": [
    {
     "data": {
      "text/html": [
       "<div>\n",
       "<style scoped>\n",
       "    .dataframe tbody tr th:only-of-type {\n",
       "        vertical-align: middle;\n",
       "    }\n",
       "\n",
       "    .dataframe tbody tr th {\n",
       "        vertical-align: top;\n",
       "    }\n",
       "\n",
       "    .dataframe thead th {\n",
       "        text-align: right;\n",
       "    }\n",
       "</style>\n",
       "<table border=\"1\" class=\"dataframe\">\n",
       "  <thead>\n",
       "    <tr style=\"text-align: right;\">\n",
       "      <th></th>\n",
       "      <th>id</th>\n",
       "      <th>graduacao</th>\n",
       "      <th>universidade</th>\n",
       "      <th>profissao</th>\n",
       "      <th>organizacao</th>\n",
       "      <th>pretende_fazer_cursos_lit</th>\n",
       "      <th>interesse_mba_lit</th>\n",
       "      <th>importante_ter_certificado</th>\n",
       "      <th>horas_semanais_estudo</th>\n",
       "      <th>como_conheceu_lit</th>\n",
       "      <th>total_modulos</th>\n",
       "      <th>modulos_iniciados</th>\n",
       "      <th>modulos_finalizados</th>\n",
       "      <th>certificados</th>\n",
       "      <th>categoria</th>\n",
       "    </tr>\n",
       "  </thead>\n",
       "  <tbody>\n",
       "    <tr>\n",
       "      <td>0</td>\n",
       "      <td>915132186.0</td>\n",
       "      <td>1.0</td>\n",
       "      <td>1.0</td>\n",
       "      <td>1.0</td>\n",
       "      <td>1.0</td>\n",
       "      <td>1.0</td>\n",
       "      <td>1.0</td>\n",
       "      <td>1.0</td>\n",
       "      <td>6.0</td>\n",
       "      <td>1.0</td>\n",
       "      <td>28.0</td>\n",
       "      <td>5.0</td>\n",
       "      <td>4.0</td>\n",
       "      <td>0.0</td>\n",
       "      <td>6</td>\n",
       "    </tr>\n",
       "    <tr>\n",
       "      <td>2</td>\n",
       "      <td>681614019.0</td>\n",
       "      <td>3.0</td>\n",
       "      <td>2.0</td>\n",
       "      <td>3.0</td>\n",
       "      <td>2.0</td>\n",
       "      <td>1.0</td>\n",
       "      <td>1.0</td>\n",
       "      <td>1.0</td>\n",
       "      <td>10.0</td>\n",
       "      <td>2.0</td>\n",
       "      <td>27.0</td>\n",
       "      <td>27.0</td>\n",
       "      <td>27.0</td>\n",
       "      <td>0.0</td>\n",
       "      <td>2</td>\n",
       "    </tr>\n",
       "    <tr>\n",
       "      <td>9</td>\n",
       "      <td>408435481.0</td>\n",
       "      <td>3.0</td>\n",
       "      <td>7.0</td>\n",
       "      <td>8.0</td>\n",
       "      <td>6.0</td>\n",
       "      <td>0.0</td>\n",
       "      <td>0.0</td>\n",
       "      <td>1.0</td>\n",
       "      <td>9.0</td>\n",
       "      <td>5.0</td>\n",
       "      <td>51.0</td>\n",
       "      <td>49.0</td>\n",
       "      <td>49.0</td>\n",
       "      <td>0.0</td>\n",
       "      <td>2</td>\n",
       "    </tr>\n",
       "    <tr>\n",
       "      <td>11</td>\n",
       "      <td>868804832.0</td>\n",
       "      <td>6.0</td>\n",
       "      <td>3.0</td>\n",
       "      <td>5.0</td>\n",
       "      <td>6.0</td>\n",
       "      <td>0.0</td>\n",
       "      <td>0.0</td>\n",
       "      <td>1.0</td>\n",
       "      <td>2.0</td>\n",
       "      <td>6.0</td>\n",
       "      <td>10.0</td>\n",
       "      <td>3.0</td>\n",
       "      <td>1.0</td>\n",
       "      <td>0.0</td>\n",
       "      <td>6</td>\n",
       "    </tr>\n",
       "    <tr>\n",
       "      <td>15</td>\n",
       "      <td>862585285.0</td>\n",
       "      <td>1.0</td>\n",
       "      <td>8.0</td>\n",
       "      <td>11.0</td>\n",
       "      <td>9.0</td>\n",
       "      <td>1.0</td>\n",
       "      <td>1.0</td>\n",
       "      <td>1.0</td>\n",
       "      <td>4.0</td>\n",
       "      <td>5.0</td>\n",
       "      <td>36.0</td>\n",
       "      <td>20.0</td>\n",
       "      <td>19.0</td>\n",
       "      <td>0.0</td>\n",
       "      <td>3</td>\n",
       "    </tr>\n",
       "  </tbody>\n",
       "</table>\n",
       "</div>"
      ],
      "text/plain": [
       "             id  graduacao  universidade  profissao  organizacao  \\\n",
       "0   915132186.0        1.0           1.0        1.0          1.0   \n",
       "2   681614019.0        3.0           2.0        3.0          2.0   \n",
       "9   408435481.0        3.0           7.0        8.0          6.0   \n",
       "11  868804832.0        6.0           3.0        5.0          6.0   \n",
       "15  862585285.0        1.0           8.0       11.0          9.0   \n",
       "\n",
       "    pretende_fazer_cursos_lit  interesse_mba_lit  importante_ter_certificado  \\\n",
       "0                         1.0                1.0                         1.0   \n",
       "2                         1.0                1.0                         1.0   \n",
       "9                         0.0                0.0                         1.0   \n",
       "11                        0.0                0.0                         1.0   \n",
       "15                        1.0                1.0                         1.0   \n",
       "\n",
       "    horas_semanais_estudo  como_conheceu_lit  total_modulos  \\\n",
       "0                     6.0                1.0           28.0   \n",
       "2                    10.0                2.0           27.0   \n",
       "9                     9.0                5.0           51.0   \n",
       "11                    2.0                6.0           10.0   \n",
       "15                    4.0                5.0           36.0   \n",
       "\n",
       "    modulos_iniciados  modulos_finalizados  certificados  categoria  \n",
       "0                 5.0                  4.0           0.0          6  \n",
       "2                27.0                 27.0           0.0          2  \n",
       "9                49.0                 49.0           0.0          2  \n",
       "11                3.0                  1.0           0.0          6  \n",
       "15               20.0                 19.0           0.0          3  "
      ]
     },
     "execution_count": 12,
     "metadata": {},
     "output_type": "execute_result"
    }
   ],
   "source": [
    "#Transformando as colunas categoricas para colunas com valores númericos para que possamos usar no nosso mod\n",
    "df_processado = pd.get_dummies(df_processado)\n",
    "df_processado.head()\n",
    "\n"
   ]
  },
  {
   "cell_type": "code",
   "execution_count": 13,
   "metadata": {},
   "outputs": [
    {
     "data": {
      "text/plain": [
       "array([  0, 739, 739, 739, 739, 739, 739], dtype=int64)"
      ]
     },
     "execution_count": 13,
     "metadata": {},
     "output_type": "execute_result"
    }
   ],
   "source": [
    "#Aplicando o SMOTE para gerar dados sintéticos \n",
    "\n",
    "#Copiando o df_processado e dropando a coluna categoria\n",
    "df_processado_x = df_processado.drop(\"categoria\", axis = 1).copy()\n",
    "\n",
    "#Criando uma series com a coluna categoria\n",
    "series_categoria = df_processado.categoria\n",
    "\n",
    "#Utilizando o SMOTE, ele cria dados sintéticos com a classe minoritária até obter o mesmo volume da classe majoritária\n",
    "smt = SMOTE()\n",
    "\n",
    "#Aplicando SMOTE\n",
    "df_processado_x, series_categoria = smt.fit_sample(df_processado_x, series_categoria)\n",
    "\n",
    "#Verificar a equalização das classes\n",
    "np.bincount(series_categoria)"
   ]
  },
  {
   "cell_type": "code",
   "execution_count": null,
   "metadata": {},
   "outputs": [],
   "source": []
  },
  {
   "cell_type": "code",
   "execution_count": 14,
   "metadata": {},
   "outputs": [],
   "source": [
    "#Realizando o Split dos dados em dados de treino e teste\n",
    "#Estou utilizando 30% do dataset para teste e o restante para treino.\n",
    "x_train, x_test, y_train, y_test = train_test_split(df_processado_x, series_categoria, test_size=0.30, random_state = 1)\n"
   ]
  },
  {
   "cell_type": "code",
   "execution_count": 15,
   "metadata": {},
   "outputs": [],
   "source": [
    "scaler = StandardScaler()  \n",
    "scaler.fit(x_train)\n",
    "\n",
    "x_train = scaler.transform(x_train)  \n",
    "x_test = scaler.transform(x_test) "
   ]
  },
  {
   "cell_type": "markdown",
   "metadata": {},
   "source": [
    "### Aplicação do algoritmo - Decision Tree"
   ]
  },
  {
   "cell_type": "code",
   "execution_count": 16,
   "metadata": {},
   "outputs": [
    {
     "name": "stdout",
     "output_type": "stream",
     "text": [
      "              precision    recall  f1-score   support\n",
      "\n",
      "           1       0.77      0.72      0.75       233\n",
      "           2       0.64      0.66      0.65       219\n",
      "           3       0.76      0.74      0.75       223\n",
      "           4       0.74      0.76      0.75       194\n",
      "           5       0.69      0.74      0.71       232\n",
      "           6       0.74      0.71      0.73       230\n",
      "\n",
      "    accuracy                           0.72      1331\n",
      "   macro avg       0.72      0.72      0.72      1331\n",
      "weighted avg       0.72      0.72      0.72      1331\n",
      "\n"
     ]
    }
   ],
   "source": [
    "# Aplicando a Decision Tree e apresentando as métricas\n",
    "dtc_model = DecisionTreeClassifier(max_depth=15).fit(x_train, y_train)\n",
    "\n",
    "#Realizando a predição de y para os dados de test x.\n",
    "y_pred_dtc = dtc_model.predict(x_test)\n",
    "print (classification_report(y_test, y_pred_dtc))"
   ]
  },
  {
   "cell_type": "code",
   "execution_count": 17,
   "metadata": {},
   "outputs": [
    {
     "data": {
      "image/png": "[encoded data removed]",
      "text/plain": [
       "<Figure size 576x432 with 2 Axes>"
      ]
     },
     "metadata": {
      "needs_background": "light"
     },
     "output_type": "display_data"
    }
   ],
   "source": [
    "#Plotando a matrix de confusão\n",
    "plot_confusion_matrix(confusion_matrix(y_test, y_pred_dtc), ['parfil1', 'perfil2', 'perfil3', 'perfil4', 'perfil5', 'perfil6'])"
   ]
  },
  {
   "cell_type": "markdown",
   "metadata": {},
   "source": [
    "### Aplicação do algoritmo - Random Forest"
   ]
  },
  {
   "cell_type": "code",
   "execution_count": 18,
   "metadata": {},
   "outputs": [
    {
     "name": "stdout",
     "output_type": "stream",
     "text": [
      "              precision    recall  f1-score   support\n",
      "\n",
      "           1       0.82      0.88      0.85       233\n",
      "           2       0.79      0.80      0.80       219\n",
      "           3       0.88      0.78      0.83       223\n",
      "           4       0.80      0.85      0.83       194\n",
      "           5       0.81      0.75      0.78       232\n",
      "           6       0.84      0.88      0.86       230\n",
      "\n",
      "    accuracy                           0.82      1331\n",
      "   macro avg       0.83      0.83      0.82      1331\n",
      "weighted avg       0.83      0.82      0.82      1331\n",
      "\n"
     ]
    },
    {
     "data": {
      "text/plain": [
       "(0.86, 0.81, 0.83, 0.8, 0.82, 0.86)"
      ]
     },
     "execution_count": 18,
     "metadata": {},
     "output_type": "execute_result"
    }
   ],
   "source": [
    "rft_model = RandomForestClassifier(max_depth=15, random_state=0).fit(x_train, y_train)\n",
    "\n",
    "#Realizando a predição de y para os dados de test x.\n",
    "y_pred_rft = rft_model.predict(x_test)\n",
    "print (classification_report(y_test, y_pred_rft))\n",
    "0.86, 0.81, 0.83, 0.80, 0.82, 0.86"
   ]
  },
  {
   "cell_type": "code",
   "execution_count": 19,
   "metadata": {},
   "outputs": [
    {
     "data": {
      "image/png": "[encoded data removed]",
      "text/plain": [
       "<Figure size 576x432 with 2 Axes>"
      ]
     },
     "metadata": {
      "needs_background": "light"
     },
     "output_type": "display_data"
    }
   ],
   "source": [
    "#Plotando a matrix de confusão\n",
    "plot_confusion_matrix(confusion_matrix(y_test, y_pred_rft), ['parfil1', 'perfil2', 'perfil3', 'perfil4', 'perfil5', 'perfil6'])"
   ]
  },
  {
   "cell_type": "markdown",
   "metadata": {},
   "source": [
    "### Aplicação do algoritmo - KNN"
   ]
  },
  {
   "cell_type": "code",
   "execution_count": 20,
   "metadata": {},
   "outputs": [
    {
     "name": "stdout",
     "output_type": "stream",
     "text": [
      "              precision    recall  f1-score   support\n",
      "\n",
      "           1       0.72      0.79      0.76       233\n",
      "           2       0.57      0.43      0.49       219\n",
      "           3       0.54      0.76      0.63       223\n",
      "           4       0.45      0.59      0.51       194\n",
      "           5       0.48      0.43      0.45       232\n",
      "           6       0.48      0.29      0.36       230\n",
      "\n",
      "    accuracy                           0.55      1331\n",
      "   macro avg       0.54      0.55      0.53      1331\n",
      "weighted avg       0.54      0.55      0.53      1331\n",
      "\n"
     ]
    }
   ],
   "source": [
    "knn_model = KNeighborsClassifier(n_neighbors=4).fit(x_train, y_train)  \n",
    "#Realizando a predição de y para os dados de test x.\n",
    "y_pred_knn = knn_model.predict(x_test)\n",
    "print(classification_report(y_test, y_pred_knn))\n"
   ]
  },
  {
   "cell_type": "code",
   "execution_count": 21,
   "metadata": {},
   "outputs": [
    {
     "data": {
      "image/png": "[encoded data removed]",
      "text/plain": [
       "<Figure size 576x432 with 2 Axes>"
      ]
     },
     "metadata": {
      "needs_background": "light"
     },
     "output_type": "display_data"
    }
   ],
   "source": [
    "#Plotando a matrix de confusão\n",
    "plot_confusion_matrix(confusion_matrix(y_test, y_pred_knn), ['parfil1', 'perfil2', 'perfil3', 'perfil4', 'perfil5', 'perfil6'])"
   ]
  },
  {
   "cell_type": "markdown",
   "metadata": {},
   "source": [
    "### Métricas \n",
    "Analisando o F1 score de cada um dos modelos Decision Tree, Random Forest e KNN.\n",
    "\n"
   ]
  },
  {
   "cell_type": "code",
   "execution_count": 45,
   "metadata": {},
   "outputs": [
    {
     "data": {
      "image/png": "[encoded data removed]",
      "text/plain": [
       "<Figure size 432x288 with 1 Axes>"
      ]
     },
     "metadata": {
      "needs_background": "light"
     },
     "output_type": "display_data"
    }
   ],
   "source": [
    "#Decision Tree\n",
    "dtc_f1_score = round(f1_score(y_test, y_pred_dtc, average= \"macro\"), 2)\n",
    "\n",
    "#Random Forest\n",
    "rft_f1_score = round(f1_score(y_test, y_pred_rft, average= \"macro\"),2) \n",
    "\n",
    "#KNN\n",
    "knn_f1_score = round(f1_score(y_test, y_pred_knn, average= \"macro\"),2)\n",
    "\n",
    "\n",
    "metricas = [dtc_f1_score, rft_f1_score, knn_f1_score]\n",
    "titulos = [\"Decision Tree\", \"Random Forest\", \"KNN\"]\n",
    "\n",
    "fig = plt.figure()\n",
    "ax = fig.add_axes([0,0,1,1])\n",
    "ax.bar(titulos,metricas, width =0.25)\n",
    "ax.set_title('Média de F1 Score por modelo')\n",
    "for p in ax.patches:\n",
    "    ax.annotate(str(p.get_height()), (p.get_x() * 1.005, p.get_height() * 1.005))\n",
    "\n",
    "plt.show()"
   ]
  },
  {
   "cell_type": "code",
   "execution_count": 41,
   "metadata": {},
   "outputs": [
    {
     "data": {
      "text/plain": [
       "0.03590109871423002"
      ]
     },
     "execution_count": 41,
     "metadata": {},
     "output_type": "execute_result"
    }
   ],
   "source": [
    "#Decision Tree\n",
    "dtc_desvio = [0.75, 0.65, 0.75, 0.75, 0.71, 0.73]\n",
    "st.pvariance(dtc_desvio) #variância\n",
    "st.pstdev(dtc_desvio) #desvio padrao"
   ]
  },
  {
   "cell_type": "code",
   "execution_count": 42,
   "metadata": {},
   "outputs": [
    {
     "data": {
      "text/plain": [
       "0.02309401076758501"
      ]
     },
     "execution_count": 42,
     "metadata": {},
     "output_type": "execute_result"
    }
   ],
   "source": [
    "#Random Forest\n",
    "rft_desvio = [0.86, 0.81, 0.83, 0.80, 0.82, 0.86]\n",
    "st.pvariance(rft_desvio) #variância\n",
    "st.pstdev(rft_desvio) #desvio padrao"
   ]
  },
  {
   "cell_type": "code",
   "execution_count": 44,
   "metadata": {},
   "outputs": [
    {
     "data": {
      "text/plain": [
       "0.12918548250050735"
      ]
     },
     "execution_count": 44,
     "metadata": {},
     "output_type": "execute_result"
    }
   ],
   "source": [
    "#KNN\n",
    "knn_desvio = [0.76, 0.49, 0.63, 0.51, 0.45, 0.36]\n",
    "st.pvariance(knn_desvio) #variância\n",
    "st.pstdev(knn_desvio) #desvio padrao"
   ]
  },
  {
   "cell_type": "markdown",
   "metadata": {},
   "source": [
    "### Conclusão\n",
    "\n",
    "Podemos concluir que o modelo de Random Forest possui a maior nota no F1 score comparado aos demais e possui menor desvio padrão entre a nota de suas classes."
   ]
  },
  {
   "cell_type": "code",
   "execution_count": null,
   "metadata": {},
   "outputs": [],
   "source": []
  }
 ],
 "metadata": {
  "kernelspec": {
   "display_name": "Python 3",
   "language": "python",
   "name": "python3"
  },
  "language_info": {
   "codemirror_mode": {
    "name": "ipython",
    "version": 3
   },
   "file_extension": ".py",
   "mimetype": "text/x-python",
   "name": "python",
   "nbconvert_exporter": "python",
   "pygments_lexer": "ipython3",
   "version": "3.7.4"
  }
 },
 "nbformat": 4,
 "nbformat_minor": 2
}
